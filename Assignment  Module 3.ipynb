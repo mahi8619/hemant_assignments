{
 "cells": [
  {
   "cell_type": "code",
   "execution_count": null,
   "id": "ca88430c",
   "metadata": {},
   "outputs": [],
   "source": [
    "[1]What is list? How will you reverse a list?"
   ]
  },
  {
   "cell_type": "code",
   "execution_count": null,
   "id": "df42f2a1",
   "metadata": {},
   "outputs": [],
   "source": [
    "#Stored multiple item in a single variable.\n",
    "list1=[253,-45,67,78]\n",
    "list1.reverse()\n",
    "print(list1)"
   ]
  },
  {
   "cell_type": "code",
   "execution_count": null,
   "id": "f40ce37d",
   "metadata": {},
   "outputs": [],
   "source": [
    "[2]How will you remove last object from a list?"
   ]
  },
  {
   "cell_type": "code",
   "execution_count": null,
   "id": "899dea8e",
   "metadata": {},
   "outputs": [],
   "source": [
    "list1=[34,23,45,567]\n",
    "list1.pop()\n",
    "print(list1)"
   ]
  },
  {
   "cell_type": "code",
   "execution_count": null,
   "id": "16d06e49",
   "metadata": {},
   "outputs": [],
   "source": [
    "[3] Suppose list is [2,33,333,14 and 25],what is list [-1]?"
   ]
  },
  {
   "cell_type": "code",
   "execution_count": null,
   "id": "7fefff60",
   "metadata": {},
   "outputs": [],
   "source": [
    "list1=[2,333,14,25]\n",
    "list1[-1]"
   ]
  },
  {
   "cell_type": "code",
   "execution_count": null,
   "id": "7c1e29d5",
   "metadata": {},
   "outputs": [],
   "source": [
    "[4] Difference between append () and extend () methods?"
   ]
  },
  {
   "cell_type": "code",
   "execution_count": null,
   "id": "a8bb6768",
   "metadata": {},
   "outputs": [],
   "source": [
    "#Append:\n",
    "   # Adds elements at the last Index\n",
    "list1=[1,2,3,10]\n",
    "list1.append('hemant')\n",
    "print(list1)\n",
    "\n",
    "#Extend:\n",
    "    # Adds Iterable of the last index.\n",
    "list2=[10,59,55]\n",
    "list2.extend('hemant')\n",
    "print(list2)\n",
    "\n"
   ]
  },
  {
   "cell_type": "code",
   "execution_count": null,
   "id": "8f4d3667",
   "metadata": {},
   "outputs": [],
   "source": [
    "[5]Wrie a python function to get the largest number, smallest num and sum of all from a list."
   ]
  },
  {
   "cell_type": "code",
   "execution_count": null,
   "id": "f4d604f5",
   "metadata": {},
   "outputs": [],
   "source": [
    "list1=[5,7,8,9,11,23,55,60]\n",
    "lsit1.sort()\n",
    "print('largest number',list1[-1])\n",
    "print('smallest number',list1[0])"
   ]
  },
  {
   "cell_type": "code",
   "execution_count": null,
   "id": "d7715a95",
   "metadata": {},
   "outputs": [],
   "source": [
    "[6]How will you compare two list?"
   ]
  },
  {
   "cell_type": "code",
   "execution_count": null,
   "id": "3cf73db8",
   "metadata": {},
   "outputs": [],
   "source": [
    "list1=[2,3,55,45]\n",
    "list2=[66,10,45,55]\n",
    "if list1==list2:\n",
    "    print('equal')\n",
    "else:\n",
    "    print('not equal')"
   ]
  },
  {
   "cell_type": "code",
   "execution_count": null,
   "id": "ef9387c7",
   "metadata": {},
   "outputs": [],
   "source": [
    "[7]Write a python program to count the number of string where the string is 2 or more and the first and last character are same \n",
    "from given list of string."
   ]
  },
  {
   "cell_type": "code",
   "execution_count": null,
   "id": "f7fdbd2b",
   "metadata": {},
   "outputs": [],
   "source": [
    "list=['hemant','nitin','sagar','ozo','oyo']\n",
    "for i in list:\n",
    "    if len(i)>=2:\n",
    "        if i[0]==i[-1]:\n",
    "            print(i)"
   ]
  },
  {
   "cell_type": "code",
   "execution_count": null,
   "id": "9491fd3b",
   "metadata": {},
   "outputs": [],
   "source": [
    "[8] Write a python program to remove duplicates from a list."
   ]
  },
  {
   "cell_type": "code",
   "execution_count": null,
   "id": "696a2f23",
   "metadata": {},
   "outputs": [],
   "source": [
    "list1=[3,4.5,3,7,67,4.5,78,45,6,7,78,8]\n",
    "s1=set(list1)\n",
    "print(s1)"
   ]
  },
  {
   "cell_type": "code",
   "execution_count": null,
   "id": "401cb965",
   "metadata": {},
   "outputs": [],
   "source": [
    "[9]Write a python program to check a list is empty or not"
   ]
  },
  {
   "cell_type": "code",
   "execution_count": null,
   "id": "774fa9a9",
   "metadata": {},
   "outputs": [],
   "source": [
    "list1=[]\n",
    "if len(list1)==0:\n",
    "    print('empty list')\n",
    "else:\n",
    "    print('not empty list')"
   ]
  },
  {
   "cell_type": "code",
   "execution_count": null,
   "id": "2e3d6a40",
   "metadata": {},
   "outputs": [],
   "source": [
    "[10]Write a python function that takes two lists and returns true if they have atleast one common member."
   ]
  },
  {
   "cell_type": "code",
   "execution_count": null,
   "id": "371862b6",
   "metadata": {},
   "outputs": [],
   "source": [
    "lsit1=[1,2,3,4,5,6,]\n",
    "lsit2=[6,7,3,2,10,11]\n",
    "ans= False\n",
    "for i in list1:\n",
    "    if i in list2:\n",
    "        continue\n",
    "    else:\n",
    "        print(ans)\n",
    "        break\n",
    "            \n",
    "else:\n",
    "    ans= True\n",
    "    print(ans)"
   ]
  },
  {
   "cell_type": "code",
   "execution_count": null,
   "id": "be5529c3",
   "metadata": {},
   "outputs": [],
   "source": [
    "[11]Write a python program to generate and print a list of first & last 5 elements where the values are \n",
    "square of number between 1 & 30"
   ]
  },
  {
   "cell_type": "code",
   "execution_count": null,
   "id": "44855605",
   "metadata": {},
   "outputs": [],
   "source": [
    "list1=[1,2,3,4,5,26,27,28,29,30]\n",
    "for i in list1:\n",
    "    a=(i*i)\n",
    "    print(a)"
   ]
  },
  {
   "cell_type": "code",
   "execution_count": null,
   "id": "0c46eeec",
   "metadata": {},
   "outputs": [],
   "source": [
    "[12]Write a python function that takes a list and return a new list with unique element of the first list."
   ]
  },
  {
   "cell_type": "code",
   "execution_count": null,
   "id": "af7af4ec",
   "metadata": {},
   "outputs": [],
   "source": [
    "list1=[6,10,1,2,3,4,5,7,7,7,8,9,9]\n",
    "list2=set(list1)\n",
    "x=list(list2)\n",
    "print(x)"
   ]
  },
  {
   "cell_type": "code",
   "execution_count": null,
   "id": "4a9e8ba9",
   "metadata": {},
   "outputs": [],
   "source": [
    "[13]Write a python program to convert a list of character of into string."
   ]
  },
  {
   "cell_type": "code",
   "execution_count": null,
   "id": "766a68d9",
   "metadata": {},
   "outputs": [],
   "source": [
    "lsit1=['s','w','a','r','a','j','y','a']\n",
    "str1= ''\n",
    "for i in list1:\n",
    "    str1+=i\n",
    "print(str1)"
   ]
  },
  {
   "cell_type": "code",
   "execution_count": null,
   "id": "c499328b",
   "metadata": {},
   "outputs": [],
   "source": [
    "[14]Write a python program to select an item randoms from lsit."
   ]
  },
  {
   "cell_type": "code",
   "execution_count": null,
   "id": "25c064e1",
   "metadata": {},
   "outputs": [],
   "source": [
    "lsit1=[1,8,9,5,88,90]\n",
    "\n"
   ]
  },
  {
   "cell_type": "code",
   "execution_count": null,
   "id": "22d0c364",
   "metadata": {},
   "outputs": [],
   "source": [
    "[15]Write a python program to find the second smallest number in a list"
   ]
  },
  {
   "cell_type": "code",
   "execution_count": null,
   "id": "83029e79",
   "metadata": {},
   "outputs": [],
   "source": [
    "list1=[10,5,15,3,9]\n",
    "lsit1.sort()\n",
    "print(lsit1[1])"
   ]
  },
  {
   "cell_type": "code",
   "execution_count": null,
   "id": "098e8bae",
   "metadata": {},
   "outputs": [],
   "source": [
    "[16]Write a program to get unique values form a list."
   ]
  },
  {
   "cell_type": "code",
   "execution_count": null,
   "id": "be632119",
   "metadata": {},
   "outputs": [],
   "source": [
    "list1=[5,6,10,15,18,19,16,17,20]\n",
    "lsit2=set(list1)\n",
    "print(list2)"
   ]
  },
  {
   "cell_type": "code",
   "execution_count": null,
   "id": "28ca0821",
   "metadata": {},
   "outputs": [],
   "source": [
    "[17]Write a Python program to check whether a list contains a sub list"
   ]
  },
  {
   "cell_type": "code",
   "execution_count": null,
   "id": "b8544cd5",
   "metadata": {},
   "outputs": [],
   "source": [
    "list1=['nitin',{1,2,3,5},[1,4,6,7,7],60,90,0.6]\n",
    "for i in list1:\n",
    "    it type(i)==list:\n",
    "        print(i,'true')\n",
    "        break\n",
    "else:\n",
    "    print('false')\n",
    "        \n"
   ]
  },
  {
   "cell_type": "code",
   "execution_count": null,
   "id": "5600c6ea",
   "metadata": {},
   "outputs": [],
   "source": [
    "[18]Write a Python program to split a list into different variables \n"
   ]
  },
  {
   "cell_type": "code",
   "execution_count": null,
   "id": "a4f2a33d",
   "metadata": {},
   "outputs": [],
   "source": [
    "list1=[2,4,6,8,10,12,14]\n",
    "list2=list1[:5]\n",
    "list3=list1[-5:]\n",
    "print(list2,list3)"
   ]
  },
  {
   "cell_type": "code",
   "execution_count": null,
   "id": "ee41cc9a",
   "metadata": {},
   "outputs": [],
   "source": [
    "[19]What is tuple? Difference between list and tuple."
   ]
  },
  {
   "cell_type": "code",
   "execution_count": null,
   "id": "872f5775",
   "metadata": {},
   "outputs": [],
   "source": [
    "#Tuple:\n",
    "    Stored mulitpule items in single variable. Ordered, indexed, immutable, allow duplication values, stored \n",
    "    almost all datatypes.\n",
    "    \n",
    "#List:\n",
    "    Stored multiple items in single variable, ordered, mutable,allows duplicate values."
   ]
  },
  {
   "cell_type": "code",
   "execution_count": null,
   "id": "5b98571a",
   "metadata": {},
   "outputs": [],
   "source": [
    "[20]Write a Python program to create a tuple with different data types."
   ]
  },
  {
   "cell_type": "code",
   "execution_count": null,
   "id": "f908c45e",
   "metadata": {},
   "outputs": [],
   "source": [
    "tuple1=(10,2,[2,3,5],{6,7,8},{2:3,4:6},'hemant','true',(2,5,9))\n",
    "print(tuple1)"
   ]
  },
  {
   "cell_type": "code",
   "execution_count": null,
   "id": "753224c0",
   "metadata": {},
   "outputs": [],
   "source": [
    "[21]Write a Python program to create a tuple with numbers."
   ]
  },
  {
   "cell_type": "code",
   "execution_count": null,
   "id": "ecd5cce6",
   "metadata": {},
   "outputs": [],
   "source": [
    "t1=5,6,50,55\n",
    "print(t1)"
   ]
  },
  {
   "cell_type": "code",
   "execution_count": null,
   "id": "1cc569da",
   "metadata": {},
   "outputs": [],
   "source": [
    "[22]Write a pythong program to convert a tuple to a string."
   ]
  },
  {
   "cell_type": "code",
   "execution_count": null,
   "id": "ac20b241",
   "metadata": {},
   "outputs": [],
   "source": [
    "t1=('m','o','u','n','t')\n",
    "str1=''\n",
    "for i in t1:\n",
    "    str1+=i\n",
    "print(str1)\n",
    "    \n",
    "    "
   ]
  },
  {
   "cell_type": "code",
   "execution_count": null,
   "id": "fe614a05",
   "metadata": {},
   "outputs": [],
   "source": [
    "[23]Write a python program to check whether an element exist within a tupel."
   ]
  },
  {
   "cell_type": "code",
   "execution_count": null,
   "id": "fc19d219",
   "metadata": {},
   "outputs": [],
   "source": [
    "tuple1=(5,9,10,11,14,18)\n",
    "print(45 in tuple1)\n",
    "    \n"
   ]
  },
  {
   "cell_type": "code",
   "execution_count": null,
   "id": "5e4e900f",
   "metadata": {},
   "outputs": [],
   "source": [
    "[24]Write a python program to find the lenghth of a tuple."
   ]
  },
  {
   "cell_type": "code",
   "execution_count": null,
   "id": "11d9c750",
   "metadata": {},
   "outputs": [],
   "source": [
    "t1=(10,15,20,25,30,35,40)\n",
    "len(t1)"
   ]
  },
  {
   "cell_type": "code",
   "execution_count": null,
   "id": "c30b0f43",
   "metadata": {},
   "outputs": [],
   "source": [
    "[25]Write a python program to convert a list to a tuple."
   ]
  },
  {
   "cell_type": "code",
   "execution_count": null,
   "id": "a394ea23",
   "metadata": {},
   "outputs": [],
   "source": [
    "list1 = [1,10,9,8,12,5,4.5]\n",
    "tuple1=tuple(list1)\n",
    "print(tuple1)"
   ]
  },
  {
   "cell_type": "code",
   "execution_count": null,
   "id": "5bb57d46",
   "metadata": {},
   "outputs": [],
   "source": [
    "[26]Write a Python program to reverse a tuple."
   ]
  },
  {
   "cell_type": "code",
   "execution_count": null,
   "id": "3431ad8c",
   "metadata": {},
   "outputs": [],
   "source": [
    "t1=('a','n','b','z','e')\n",
    "t2=t1[::-1]\n",
    "print(t1)\n",
    "print(t2)"
   ]
  },
  {
   "cell_type": "code",
   "execution_count": null,
   "id": "e77d670e",
   "metadata": {},
   "outputs": [],
   "source": [
    "[27]Write a Python program to replace last value of tuples in a list."
   ]
  },
  {
   "cell_type": "code",
   "execution_count": null,
   "id": "b344c67c",
   "metadata": {},
   "outputs": [],
   "source": [
    "tuple1=[(5,7,9,8,3,4)]\n",
    "print([t[:-1]+(20,)for t in tuple1)"
   ]
  },
  {
   "cell_type": "code",
   "execution_count": null,
   "id": "c989a82f",
   "metadata": {},
   "outputs": [],
   "source": [
    "[28]Write a python program to find a repated items of a tuple"
   ]
  },
  {
   "cell_type": "code",
   "execution_count": null,
   "id": "b3d6de4a",
   "metadata": {},
   "outputs": [],
   "source": [
    "t1=(34,23,34,56,23,45)\n",
    "t1.count(34)"
   ]
  },
  {
   "cell_type": "code",
   "execution_count": null,
   "id": "36335eb3",
   "metadata": {},
   "outputs": [],
   "source": [
    "[29]Write a Python program to remove an empty tuple(s) from a list of tuples."
   ]
  },
  {
   "cell_type": "code",
   "execution_count": null,
   "id": "f286f8ed",
   "metadata": {},
   "outputs": [],
   "source": [
    "tuple=[('ram',10,9,8),(),(),('nitin','neeta'),(),99,1.5,()]\n",
    "list1=[]\n",
    "for in tuple:\n",
    "    if len(i)!=0:\n",
    "        list1.append(i)\n",
    "print(list1)"
   ]
  },
  {
   "cell_type": "code",
   "execution_count": null,
   "id": "d90fff26",
   "metadata": {},
   "outputs": [],
   "source": [
    "[30]Write a Python program to unzip a list of tuples into individual lists."
   ]
  },
  {
   "cell_type": "code",
   "execution_count": null,
   "id": "70135553",
   "metadata": {},
   "outputs": [],
   "source": [
    "a,b,c=(55,88,90)\n",
    "print(a,b,c)"
   ]
  },
  {
   "cell_type": "code",
   "execution_count": null,
   "id": "f87d4403",
   "metadata": {},
   "outputs": [],
   "source": [
    "[31]Write a Python program to convert a list of tuples into a dictionary."
   ]
  },
  {
   "cell_type": "code",
   "execution_count": null,
   "id": "88301592",
   "metadata": {},
   "outputs": [],
   "source": [
    "tuplee1=[(50,5),(66,6),(70,7)]\n",
    "list2=dict(tuplee1)\n",
    "print(list2)"
   ]
  },
  {
   "cell_type": "code",
   "execution_count": null,
   "id": "c0d990cc",
   "metadata": {},
   "outputs": [],
   "source": [
    "[32]How will you create a dictionary using tuples in python?"
   ]
  },
  {
   "cell_type": "code",
   "execution_count": null,
   "id": "d0aefc45",
   "metadata": {},
   "outputs": [],
   "source": [
    "tuple1=(('a',10),('b',20),('c',30))\n",
    "dict(tuple1)"
   ]
  },
  {
   "cell_type": "code",
   "execution_count": null,
   "id": "ab560aeb",
   "metadata": {},
   "outputs": [],
   "source": [
    "[33]Write a Python script to sort (ascending and descending) a dictionary by value."
   ]
  },
  {
   "cell_type": "code",
   "execution_count": null,
   "id": "d19f3bec",
   "metadata": {},
   "outputs": [],
   "source": [
    "dict1={'a':80,'b':50,'c':40,'d':70}\n",
    "d1=dict(sorted(dict1.items(),key=lambda a:a[1]))\n",
    "d2=dict(sorted(dict1.items(),key=lambda a:a[1],reverse=True))\n",
    "print('ascending',d1,'descending',d2,sep= '\\n')"
   ]
  },
  {
   "cell_type": "code",
   "execution_count": null,
   "id": "6cf59240",
   "metadata": {},
   "outputs": [],
   "source": [
    "[34]Write a Python script to concatenate following dictionaries to create a new one."
   ]
  },
  {
   "cell_type": "code",
   "execution_count": null,
   "id": "19e9aa7a",
   "metadata": {},
   "outputs": [],
   "source": [
    "dict1={2:3,4:6}\n",
    "dict2={2:10,6:12}\n",
    "dict3={}\n",
    "for d in (dict1,dict2):\n",
    "    dict3.update(d)\n",
    "print(dict3)"
   ]
  },
  {
   "cell_type": "code",
   "execution_count": null,
   "id": "abee4311",
   "metadata": {},
   "outputs": [],
   "source": [
    "[35]Write a Python script to check if a given key already exists in a dictionary"
   ]
  },
  {
   "cell_type": "code",
   "execution_count": null,
   "id": "e61897b9",
   "metadata": {},
   "outputs": [],
   "source": [
    "dict1={'a':5,'b':6,'c':7}\n",
    "key=input()\n",
    "if key in dict1.keys():\n",
    "    print(key,'already exists')\n",
    "else:\n",
    "    print(key,'does not exists')"
   ]
  },
  {
   "cell_type": "code",
   "execution_count": null,
   "id": "04b314fa",
   "metadata": {},
   "outputs": [],
   "source": [
    "[36]How Do You Traverse Through A Dictionary Object In Python?"
   ]
  },
  {
   "cell_type": "code",
   "execution_count": null,
   "id": "8d071e09",
   "metadata": {},
   "outputs": [],
   "source": []
  },
  {
   "cell_type": "code",
   "execution_count": null,
   "id": "9962a3fa",
   "metadata": {},
   "outputs": [],
   "source": [
    "[37]How Do You Check The Presence Of A Key In A Dictionary?"
   ]
  },
  {
   "cell_type": "code",
   "execution_count": null,
   "id": "ceb7b0e4",
   "metadata": {},
   "outputs": [],
   "source": [
    "dict1={'v':2,'x':5,'z':9,'h':4}\n",
    "key=input()\n",
    "if key in dict1.keys():\n",
    "    print(key,'present')\n",
    "else:\n",
    "    print(key,'does not exist')"
   ]
  },
  {
   "cell_type": "code",
   "execution_count": null,
   "id": "bc5453e7",
   "metadata": {},
   "outputs": [],
   "source": [
    "[38]Write a Python script to print a dictionary where the keys are numbers between 1 and 15."
   ]
  },
  {
   "cell_type": "code",
   "execution_count": null,
   "id": "b86e192e",
   "metadata": {},
   "outputs": [],
   "source": [
    "dict1=dict()\n",
    "for i in range(1,16):\n",
    "    dict1[i]=None\n",
    "print(dict1)"
   ]
  },
  {
   "cell_type": "code",
   "execution_count": null,
   "id": "c0d31030",
   "metadata": {},
   "outputs": [],
   "source": [
    "[39]Write a Python program to check multiple keys exists in a dictionary"
   ]
  },
  {
   "cell_type": "code",
   "execution_count": null,
   "id": "5d3bef0a",
   "metadata": {},
   "outputs": [],
   "source": []
  },
  {
   "cell_type": "code",
   "execution_count": null,
   "id": "fb3d3fce",
   "metadata": {},
   "outputs": [],
   "source": [
    "[40]Write a Python script to merge two Python dictionaries"
   ]
  },
  {
   "cell_type": "code",
   "execution_count": 3,
   "id": "ddef1cf8",
   "metadata": {},
   "outputs": [
    {
     "name": "stdout",
     "output_type": "stream",
     "text": [
      "{1: 2, 4: 6, 8: 10, 2: 3, 9: 10, 6: 8}\n"
     ]
    }
   ],
   "source": [
    "dict1={1:2,4:6,8:10}\n",
    "dict2={2:3,9:10,6:8,1:2}\n",
    "dict3=dict1.copy()\n",
    "dict3.update(dict2)\n",
    "print(dict3)"
   ]
  },
  {
   "cell_type": "code",
   "execution_count": null,
   "id": "d8e484d1",
   "metadata": {},
   "outputs": [],
   "source": [
    "[41]Write a Python program to map two lists into a dictionary"
   ]
  },
  {
   "cell_type": "code",
   "execution_count": 4,
   "id": "a7b4cae3",
   "metadata": {},
   "outputs": [
    {
     "name": "stdout",
     "output_type": "stream",
     "text": [
      "{'hemant': 2, 'pranav': 3, 'nitin': 4}\n"
     ]
    }
   ],
   "source": [
    "list1=['hemant','pranav','nitin']\n",
    "list2=[2,3,4,5]\n",
    "dict1=dict(zip(list1,list2))\n",
    "print(dict1)"
   ]
  },
  {
   "cell_type": "code",
   "execution_count": null,
   "id": "3f0a1410",
   "metadata": {},
   "outputs": [],
   "source": [
    "[42]Write a Python program to combine two dictionary adding values for common keys.\n",
    "d1 = {'a': 100, 'b': 200, 'c':300}\n",
    "d2 = {'a': 300, 'b': 200,’d’:400}"
   ]
  },
  {
   "cell_type": "code",
   "execution_count": 3,
   "id": "5b8d2e95",
   "metadata": {},
   "outputs": [
    {
     "ename": "NameError",
     "evalue": "name 'di2' is not defined",
     "output_type": "error",
     "traceback": [
      "\u001b[1;31m---------------------------------------------------------------------------\u001b[0m",
      "\u001b[1;31mNameError\u001b[0m                                 Traceback (most recent call last)",
      "Input \u001b[1;32mIn [3]\u001b[0m, in \u001b[0;36m<cell line: 4>\u001b[1;34m()\u001b[0m\n\u001b[0;32m      1\u001b[0m d1 \u001b[38;5;241m=\u001b[39m {\u001b[38;5;124m'\u001b[39m\u001b[38;5;124ma\u001b[39m\u001b[38;5;124m'\u001b[39m: \u001b[38;5;241m100\u001b[39m, \u001b[38;5;124m'\u001b[39m\u001b[38;5;124mb\u001b[39m\u001b[38;5;124m'\u001b[39m: \u001b[38;5;241m200\u001b[39m, \u001b[38;5;124m'\u001b[39m\u001b[38;5;124mc\u001b[39m\u001b[38;5;124m'\u001b[39m:\u001b[38;5;241m300\u001b[39m}\n\u001b[0;32m      2\u001b[0m d2 \u001b[38;5;241m=\u001b[39m {\u001b[38;5;124m'\u001b[39m\u001b[38;5;124ma\u001b[39m\u001b[38;5;124m'\u001b[39m: \u001b[38;5;241m300\u001b[39m, \u001b[38;5;124m'\u001b[39m\u001b[38;5;124mb\u001b[39m\u001b[38;5;124m'\u001b[39m: \u001b[38;5;241m200\u001b[39m, \u001b[38;5;124m'\u001b[39m\u001b[38;5;124mc\u001b[39m\u001b[38;5;124m'\u001b[39m:\u001b[38;5;241m400\u001b[39m}\n\u001b[1;32m----> 4\u001b[0m \u001b[38;5;28;01mfor\u001b[39;00m key \u001b[38;5;129;01min\u001b[39;00m \u001b[43mdi2\u001b[49m:\n\u001b[0;32m      5\u001b[0m     \u001b[38;5;28;01mif\u001b[39;00m key \u001b[38;5;129;01min\u001b[39;00m di1:\n\u001b[0;32m      6\u001b[0m         di2[key] \u001b[38;5;241m=\u001b[39m di2[key] \u001b[38;5;241m+\u001b[39m di1[key]\n",
      "\u001b[1;31mNameError\u001b[0m: name 'di2' is not defined"
     ]
    }
   ],
   "source": [
    "d1 = {'a': 100, 'b': 200, 'c':300}\n",
    "d2 = {'a': 300, 'b': 200, 'c':400}\n",
    "\n",
    "for key in di2:\n",
    "    if key in di1:\n",
    "        di2[key] = di2[key] + di1[key]\n",
    "print(di2)"
   ]
  },
  {
   "cell_type": "code",
   "execution_count": null,
   "id": "d799797c",
   "metadata": {},
   "outputs": [],
   "source": [
    "[43]Sample output: Counter ({'a': 400, 'b': 400,’d’: 400, 'c': 300})."
   ]
  },
  {
   "cell_type": "code",
   "execution_count": null,
   "id": "e6208c0d",
   "metadata": {},
   "outputs": [],
   "source": []
  },
  {
   "cell_type": "code",
   "execution_count": null,
   "id": "96cc832d",
   "metadata": {},
   "outputs": [],
   "source": [
    "[44]Write a Python program to print all unique values in a dictionary"
   ]
  },
  {
   "cell_type": "code",
   "execution_count": null,
   "id": "c3a4dc57",
   "metadata": {},
   "outputs": [],
   "source": []
  },
  {
   "cell_type": "code",
   "execution_count": null,
   "id": "6d88430c",
   "metadata": {},
   "outputs": [],
   "source": [
    "[45]Why Do You Use the Zip () Method in Python?"
   ]
  },
  {
   "cell_type": "code",
   "execution_count": null,
   "id": "833e5490",
   "metadata": {},
   "outputs": [],
   "source": []
  }
 ],
 "metadata": {
  "kernelspec": {
   "display_name": "Python 3 (ipykernel)",
   "language": "python",
   "name": "python3"
  },
  "language_info": {
   "codemirror_mode": {
    "name": "ipython",
    "version": 3
   },
   "file_extension": ".py",
   "mimetype": "text/x-python",
   "name": "python",
   "nbconvert_exporter": "python",
   "pygments_lexer": "ipython3",
   "version": "3.9.12"
  }
 },
 "nbformat": 4,
 "nbformat_minor": 5
}
