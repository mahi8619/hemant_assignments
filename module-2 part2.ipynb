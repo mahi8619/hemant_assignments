{
 "cells": [
  {
   "cell_type": "code",
   "execution_count": null,
   "id": "240198a9",
   "metadata": {},
   "outputs": [],
   "source": [
    "[12] Write a pythong program to calculate the length of string."
   ]
  },
  {
   "cell_type": "code",
   "execution_count": 1,
   "id": "70320663",
   "metadata": {},
   "outputs": [
    {
     "data": {
      "text/plain": [
       "22"
      ]
     },
     "execution_count": 1,
     "metadata": {},
     "output_type": "execute_result"
    }
   ],
   "source": [
    "str1 = 'potdar hemant bajarang'\n",
    "len(str1)\n"
   ]
  },
  {
   "cell_type": "code",
   "execution_count": null,
   "id": "43390cdd",
   "metadata": {},
   "outputs": [],
   "source": [
    "[13] Write a python program to the count the number of characters (character frequency)in string."
   ]
  },
  {
   "cell_type": "code",
   "execution_count": 2,
   "id": "13c4bd32",
   "metadata": {},
   "outputs": [
    {
     "data": {
      "text/plain": [
       "2"
      ]
     },
     "execution_count": 2,
     "metadata": {},
     "output_type": "execute_result"
    }
   ],
   "source": [
    "str1 = 'python program language'\n",
    "str1.count('p')"
   ]
  },
  {
   "cell_type": "code",
   "execution_count": null,
   "id": "bd8dacc6",
   "metadata": {},
   "outputs": [],
   "source": [
    "[14]  What are negative indexes and why are they used?"
   ]
  },
  {
   "cell_type": "code",
   "execution_count": 3,
   "id": "0c22938d",
   "metadata": {},
   "outputs": [
    {
     "data": {
      "text/plain": [
       "'s'"
      ]
     },
     "execution_count": 3,
     "metadata": {},
     "output_type": "execute_result"
    }
   ],
   "source": [
    "# we can use negative indexing as your advantage when you want to pick values from the end right side of an iterable.\n",
    "str1 = 'yashwant highschool'\n",
    "str1[-6]"
   ]
  },
  {
   "cell_type": "code",
   "execution_count": null,
   "id": "041f80d1",
   "metadata": {},
   "outputs": [],
   "source": [
    "[15] Write a python program to count a occurences of a substring in a string."
   ]
  },
  {
   "cell_type": "code",
   "execution_count": 4,
   "id": "a72f4200",
   "metadata": {},
   "outputs": [
    {
     "data": {
      "text/plain": [
       "3"
      ]
     },
     "execution_count": 4,
     "metadata": {},
     "output_type": "execute_result"
    }
   ],
   "source": [
    "str1 = 'pythong is easy language'\n",
    "str1.count('a')"
   ]
  },
  {
   "cell_type": "code",
   "execution_count": null,
   "id": "2be27cf1",
   "metadata": {},
   "outputs": [],
   "source": [
    "[16] Write a Python program to count the occurrences of each word in a given\n",
    "sentence"
   ]
  },
  {
   "cell_type": "code",
   "execution_count": 1,
   "id": "a06e5483",
   "metadata": {},
   "outputs": [
    {
     "name": "stdout",
     "output_type": "stream",
     "text": [
      "pranav hemant pranav nitin ajay nitin pranav hemant\n",
      "pranav Present 1 Times\n",
      "hemant Present 2 Times\n",
      "pranav Present 3 Times\n",
      "nitin Present 4 Times\n",
      "ajay Present 5 Times\n",
      "nitin Present 6 Times\n",
      "pranav Present 7 Times\n",
      "hemant Present 8 Times\n"
     ]
    }
   ],
   "source": [
    "str=input()\n",
    "str=str.split()\n",
    "i=0\n",
    "count=0\n",
    "while i<len(str):\n",
    "    for j in str:\n",
    "        if str[i]==j:\n",
    "            count=count+1\n",
    "        print(str[i],'Present',count,'Times')\n",
    "        \n",
    "        i=i+1\n",
    "        \n",
    "\n",
    "                \n"
   ]
  },
  {
   "cell_type": "code",
   "execution_count": null,
   "id": "aa73480b",
   "metadata": {},
   "outputs": [],
   "source": [
    "[17] Write a Python program to get a single string from two given strings, separated by a space and \n",
    "swap the first two characters of each string."
   ]
  },
  {
   "cell_type": "code",
   "execution_count": null,
   "id": "87c6bf6e",
   "metadata": {},
   "outputs": [],
   "source": [
    "str1,str2= 'wxyz','lmno'\n",
    "str1=str2[0:2]+ str1[2:]\n",
    "print(str2)"
   ]
  },
  {
   "cell_type": "code",
   "execution_count": null,
   "id": "290753c7",
   "metadata": {},
   "outputs": [],
   "source": [
    "[18]Write a Python program to add 'ing' at the end of a given string (length\n",
    "should be at least 3). If the given string already ends with 'ing' then add 'ly'\n",
    "instead if the string length of the given string is less than 3, leave it\n",
    "unchanged."
   ]
  },
  {
   "cell_type": "code",
   "execution_count": null,
   "id": "eb261254",
   "metadata": {},
   "outputs": [],
   "source": [
    "i = 'niti'\n",
    "\n",
    "if len(i)>3:\n",
    "    if i.endswith('ing'):\n",
    "        print(i+'ly')\n",
    "    else:\n",
    "        print(i+'ing')\n",
    "print(i)\n",
    "        "
   ]
  },
  {
   "cell_type": "code",
   "execution_count": null,
   "id": "59373987",
   "metadata": {},
   "outputs": [],
   "source": [
    "[19] Write a Python program to find the first appearance of the substring 'not'\n",
    "and 'poor' from a given string, if 'not' follows the 'poor', replace the whole\n",
    "'not'...'poor' substring with 'good'. Return the resulting string."
   ]
  },
  {
   "cell_type": "code",
   "execution_count": null,
   "id": "22d98345",
   "metadata": {},
   "outputs": [],
   "source": [
    " \n",
    " "
   ]
  },
  {
   "cell_type": "code",
   "execution_count": null,
   "id": "4bb17bcf",
   "metadata": {},
   "outputs": [],
   "source": [
    "[20]Write a Python function that takes a list of words and returns the length of the longest one."
   ]
  },
  {
   "cell_type": "code",
   "execution_count": 14,
   "id": "1a5a743b",
   "metadata": {},
   "outputs": [
    {
     "data": {
      "text/plain": [
       "'pranav'"
      ]
     },
     "execution_count": 14,
     "metadata": {},
     "output_type": "execute_result"
    }
   ],
   "source": [
    "a = 'pythong is easy language' \n",
    "\n",
    "if \n"
   ]
  },
  {
   "cell_type": "code",
   "execution_count": null,
   "id": "055b0c07",
   "metadata": {},
   "outputs": [],
   "source": [
    "[21] Write a Python function to reverses a string if its length is a multiple of 4."
   ]
  },
  {
   "cell_type": "code",
   "execution_count": 4,
   "id": "b9c79b40",
   "metadata": {},
   "outputs": [
    {
     "name": "stdout",
     "output_type": "stream",
     "text": [
      "dcba\n"
     ]
    }
   ],
   "source": [
    "a ='abcd'\n",
    "b = len(a)\n",
    "if b%4==0:\n",
    "    print(a[::-1])\n",
    "else:\n",
    "    print(a)\n",
    "    "
   ]
  },
  {
   "cell_type": "code",
   "execution_count": null,
   "id": "1818c490",
   "metadata": {},
   "outputs": [],
   "source": [
    "[22] Write a Python program to get a string made of the first 2 and the last 2\n",
    "chars from a given a string. If the string length is less than 2, return instead\n",
    "of the empty string.\n",
    "\n",
    "o Sample String: w3resource'\n",
    "o Expected Result: 'w3ce'\n",
    "o Sample String: 'w3'\n",
    "o Expected Result: 'w3w3'\n",
    "o Sample String: ' w'\n",
    "o Expected Result: Empty String"
   ]
  },
  {
   "cell_type": "code",
   "execution_count": 11,
   "id": "c53d5ae8",
   "metadata": {},
   "outputs": [
    {
     "name": "stdout",
     "output_type": "stream",
     "text": [
      "w3ce\n"
     ]
    }
   ],
   "source": [
    "a = 'w3resource'\n",
    "if len(a)<2:\n",
    "    print('')\n",
    "if len(a)==2:\n",
    "    print(a+a)\n",
    "if len(a)>2:\n",
    "    print(a[0:2],end='')\n",
    "    print(a[-2::1])\n",
    "        "
   ]
  },
  {
   "cell_type": "code",
   "execution_count": null,
   "id": "f5df2d31",
   "metadata": {},
   "outputs": [],
   "source": [
    "[23]Write a Python function to insert a string in the middle of a string."
   ]
  },
  {
   "cell_type": "code",
   "execution_count": 9,
   "id": "44b617a0",
   "metadata": {},
   "outputs": [
    {
     "name": "stdout",
     "output_type": "stream",
     "text": [
      "hempranavant"
     ]
    }
   ],
   "source": [
    "a = 'hemant'\n",
    "for i in a:\n",
    "    if i=='m':\n",
    "        print('m'+'pranav',end='')\n",
    "    else:\n",
    "        print(i,end='')"
   ]
  },
  {
   "cell_type": "code",
   "execution_count": null,
   "id": "2c683c43",
   "metadata": {},
   "outputs": [],
   "source": [
    "f1 = 'pop travis scott'\n",
    "res = f1[-4:([]):-3]\n",
    "print(res)"
   ]
  }
 ],
 "metadata": {
  "kernelspec": {
   "display_name": "Python 3 (ipykernel)",
   "language": "python",
   "name": "python3"
  },
  "language_info": {
   "codemirror_mode": {
    "name": "ipython",
    "version": 3
   },
   "file_extension": ".py",
   "mimetype": "text/x-python",
   "name": "python",
   "nbconvert_exporter": "python",
   "pygments_lexer": "ipython3",
   "version": "3.9.12"
  }
 },
 "nbformat": 4,
 "nbformat_minor": 5
}
