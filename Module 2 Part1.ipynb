{
 "cells": [
  {
   "cell_type": "code",
   "execution_count": null,
   "id": "517ae5c2",
   "metadata": {},
   "outputs": [],
   "source": [
    "[1] Write a python program to check if a number is positive , negative or zero."
   ]
  },
  {
   "cell_type": "code",
   "execution_count": null,
   "id": "604e2b0c",
   "metadata": {},
   "outputs": [],
   "source": [
    "num = int(input())\n",
    "if num>0:\n",
    "    print('positive')\n",
    "elif num ==0:\n",
    "    print('zero')\n",
    "else:\n",
    "    print('negative')\n",
    "          "
   ]
  },
  {
   "cell_type": "code",
   "execution_count": null,
   "id": "3531cde1",
   "metadata": {},
   "outputs": [],
   "source": [
    "[2]Write a python program to get the factorial number of given number."
   ]
  },
  {
   "cell_type": "code",
   "execution_count": null,
   "id": "762b2fa3",
   "metadata": {},
   "outputs": [],
   "source": [
    "i = int(input())\n",
    "fac=1\n",
    "while(i>0):\n",
    "    fac=fac*i\n",
    "    i=i-1\n",
    "print('factorial=',fac)\n"
   ]
  },
  {
   "cell_type": "code",
   "execution_count": null,
   "id": "13d85863",
   "metadata": {},
   "outputs": [],
   "source": [
    "[3] Write a python program to get the Fibonacci series of given range."
   ]
  },
  {
   "cell_type": "code",
   "execution_count": null,
   "id": "d64bab94",
   "metadata": {},
   "outputs": [],
   "source": [
    "n=int(input())\n",
    "a=0\n",
    "b=1\n",
    "c=0\n",
    "\n",
    "while c<=n:\n",
    "    print(c,end='')"
   ]
  },
  {
   "cell_type": "code",
   "execution_count": null,
   "id": "e9c1838d",
   "metadata": {},
   "outputs": [],
   "source": [
    "[4] How memory managed in python?"
   ]
  },
  {
   "cell_type": "code",
   "execution_count": null,
   "id": "52f3d381",
   "metadata": {},
   "outputs": [],
   "source": [
    "In python memory is managed dynamically with private heaps space."
   ]
  },
  {
   "cell_type": "code",
   "execution_count": null,
   "id": "afe81d94",
   "metadata": {},
   "outputs": [],
   "source": [
    "[5] What is the purpose continue statment in python?\n"
   ]
  },
  {
   "cell_type": "code",
   "execution_count": null,
   "id": "d53cc71f",
   "metadata": {},
   "outputs": [],
   "source": [
    "Skip the rest of the current iteration and continue with the next iteration."
   ]
  },
  {
   "cell_type": "code",
   "execution_count": null,
   "id": "96962cd7",
   "metadata": {},
   "outputs": [],
   "source": [
    "[6] Write a python program that swap two number with temp variable and without temp variable."
   ]
  },
  {
   "cell_type": "code",
   "execution_count": null,
   "id": "174d5d4e",
   "metadata": {},
   "outputs": [],
   "source": [
    "# With temp variable\n",
    "\n",
    "x=10\n",
    "y=15\n",
    "temp=x\n",
    "\n",
    "temp=x\n",
    "print('the value of x is',x)\n",
    "\n",
    "x=y\n",
    "\n",
    "y=temp\n",
    "print('the value of y is',y)"
   ]
  },
  {
   "cell_type": "code",
   "execution_count": null,
   "id": "830fa68c",
   "metadata": {},
   "outputs": [],
   "source": [
    "# Without tem variable\n",
    "\n",
    "x=10\n",
    "y=15\n",
    "x,y = y,x\n",
    "print('the value of x',x)\n",
    "print('the value of y',y)"
   ]
  },
  {
   "cell_type": "code",
   "execution_count": null,
   "id": "44817822",
   "metadata": {},
   "outputs": [],
   "source": [
    "[7] Write a python program to find whether a given number is even number or odd, printout a appropriate message to the user"
   ]
  },
  {
   "cell_type": "code",
   "execution_count": null,
   "id": "46d8ffec",
   "metadata": {},
   "outputs": [],
   "source": [
    "a=int(input())\n",
    "\n",
    "if a%2==0:\n",
    "    print('even')\n",
    "else:\n",
    "    print('odd')"
   ]
  },
  {
   "cell_type": "code",
   "execution_count": null,
   "id": "4dba11c9",
   "metadata": {},
   "outputs": [],
   "source": [
    "[8] Write a python program to test whether a paased letter is a vowel or not."
   ]
  },
  {
   "cell_type": "code",
   "execution_count": null,
   "id": "3c2c8a56",
   "metadata": {},
   "outputs": [],
   "source": [
    "x=input('Enter a sentence:')\n",
    "count=0\n",
    "for i in x:\n",
    "    if i=='a'or i=='e'or i=='o'or i=='u':\n",
    "        print('is a vowel')\n",
    "    else:\n",
    "        print('is not a vowel')\n"
   ]
  },
  {
   "cell_type": "code",
   "execution_count": null,
   "id": "4954f9d2",
   "metadata": {},
   "outputs": [],
   "source": [
    "[9] Write a python program to sum of three given intigers. However, if two values are equal sum will be zero."
   ]
  },
  {
   "cell_type": "code",
   "execution_count": null,
   "id": "2b3bbbee",
   "metadata": {},
   "outputs": [],
   "source": [
    "a=int(input())\n",
    "b=int(input())\n",
    "c=int(input())\n",
    "\n",
    "if a==b or b==c or c==a:\n",
    "    print('sum is zero')\n",
    "else:\n",
    "    print(a+b+c)"
   ]
  },
  {
   "cell_type": "code",
   "execution_count": null,
   "id": "8cffad9b",
   "metadata": {},
   "outputs": [],
   "source": [
    "[10]Write a Python program that will return true if the two given integer values are equal or their sum or difference is 5."
   ]
  },
  {
   "cell_type": "code",
   "execution_count": null,
   "id": "5e7e1e22",
   "metadata": {},
   "outputs": [],
   "source": []
  },
  {
   "cell_type": "code",
   "execution_count": null,
   "id": "2db79189",
   "metadata": {},
   "outputs": [],
   "source": [
    "[11] Write a pythong program to sum of the first n positive intigers."
   ]
  },
  {
   "cell_type": "code",
   "execution_count": null,
   "id": "156e5f7c",
   "metadata": {},
   "outputs": [],
   "source": [
    "n=int(input())\n",
    "i=1\n",
    "sum=0\n",
    "\n",
    "while i<=n:\n",
    "    sum=sum+i\n",
    "    i=i+1\n",
    "print('sum=',sum)"
   ]
  }
 ],
 "metadata": {
  "kernelspec": {
   "display_name": "Python 3 (ipykernel)",
   "language": "python",
   "name": "python3"
  },
  "language_info": {
   "codemirror_mode": {
    "name": "ipython",
    "version": 3
   },
   "file_extension": ".py",
   "mimetype": "text/x-python",
   "name": "python",
   "nbconvert_exporter": "python",
   "pygments_lexer": "ipython3",
   "version": "3.9.12"
  }
 },
 "nbformat": 4,
 "nbformat_minor": 5
}
